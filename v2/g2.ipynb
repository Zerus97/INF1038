{
 "cells": [
  {
   "cell_type": "code",
   "execution_count": 30,
   "id": "e2ea4eb5-2af9-4785-9d43-51c35c7f8d20",
   "metadata": {},
   "outputs": [],
   "source": [
    "import pandas as pd\n",
    "from sklearn.cluster import KMeans\n",
    "from sklearn.compose import ColumnTransformer\n",
    "from sklearn.preprocessing import StandardScaler, OneHotEncoder\n",
    "from sklearn.metrics import adjusted_rand_score, normalized_mutual_info_score\n",
    "import matplotlib.pyplot as plt"
   ]
  },
  {
   "cell_type": "code",
   "execution_count": 17,
   "id": "5282831f-a795-459a-8d13-d949c2eba9a5",
   "metadata": {},
   "outputs": [],
   "source": [
    "df = pd.read_csv(\"Obesity_Dataset - Obesity_Dataset .csv\")"
   ]
  },
  {
   "cell_type": "code",
   "execution_count": 18,
   "id": "3be7ce49-76e1-4e0c-8c44-e0d2cfc73282",
   "metadata": {},
   "outputs": [
    {
     "data": {
      "text/html": [
       "<div>\n",
       "<style scoped>\n",
       "    .dataframe tbody tr th:only-of-type {\n",
       "        vertical-align: middle;\n",
       "    }\n",
       "\n",
       "    .dataframe tbody tr th {\n",
       "        vertical-align: top;\n",
       "    }\n",
       "\n",
       "    .dataframe thead th {\n",
       "        text-align: right;\n",
       "    }\n",
       "</style>\n",
       "<table border=\"1\" class=\"dataframe\">\n",
       "  <thead>\n",
       "    <tr style=\"text-align: right;\">\n",
       "      <th></th>\n",
       "      <th>Sex</th>\n",
       "      <th>Age</th>\n",
       "      <th>Height</th>\n",
       "      <th>Overweight_Obese_Family</th>\n",
       "      <th>Consumption_of_Fast_Food</th>\n",
       "      <th>Frequency_of_Consuming_Vegetables</th>\n",
       "      <th>Number_of_Main_Meals_Daily</th>\n",
       "      <th>Food_Intake_Between_Meals</th>\n",
       "      <th>Smoking</th>\n",
       "      <th>Liquid_Intake_Daily</th>\n",
       "      <th>Calculation_of_Calorie_Intake</th>\n",
       "      <th>Physical_Excercise</th>\n",
       "      <th>Schedule_Dedicated_to_Technology</th>\n",
       "      <th>Type_of_Transportation_Used</th>\n",
       "      <th>Class</th>\n",
       "    </tr>\n",
       "  </thead>\n",
       "  <tbody>\n",
       "    <tr>\n",
       "      <th>0</th>\n",
       "      <td>2</td>\n",
       "      <td>18</td>\n",
       "      <td>155</td>\n",
       "      <td>2</td>\n",
       "      <td>2</td>\n",
       "      <td>3</td>\n",
       "      <td>1</td>\n",
       "      <td>3</td>\n",
       "      <td>2</td>\n",
       "      <td>1</td>\n",
       "      <td>2</td>\n",
       "      <td>3</td>\n",
       "      <td>3</td>\n",
       "      <td>4</td>\n",
       "      <td>2</td>\n",
       "    </tr>\n",
       "    <tr>\n",
       "      <th>1</th>\n",
       "      <td>2</td>\n",
       "      <td>18</td>\n",
       "      <td>158</td>\n",
       "      <td>2</td>\n",
       "      <td>2</td>\n",
       "      <td>3</td>\n",
       "      <td>1</td>\n",
       "      <td>1</td>\n",
       "      <td>2</td>\n",
       "      <td>1</td>\n",
       "      <td>2</td>\n",
       "      <td>1</td>\n",
       "      <td>3</td>\n",
       "      <td>3</td>\n",
       "      <td>2</td>\n",
       "    </tr>\n",
       "    <tr>\n",
       "      <th>2</th>\n",
       "      <td>2</td>\n",
       "      <td>18</td>\n",
       "      <td>159</td>\n",
       "      <td>2</td>\n",
       "      <td>2</td>\n",
       "      <td>2</td>\n",
       "      <td>1</td>\n",
       "      <td>3</td>\n",
       "      <td>2</td>\n",
       "      <td>3</td>\n",
       "      <td>2</td>\n",
       "      <td>2</td>\n",
       "      <td>3</td>\n",
       "      <td>4</td>\n",
       "      <td>2</td>\n",
       "    </tr>\n",
       "    <tr>\n",
       "      <th>3</th>\n",
       "      <td>2</td>\n",
       "      <td>18</td>\n",
       "      <td>162</td>\n",
       "      <td>2</td>\n",
       "      <td>2</td>\n",
       "      <td>2</td>\n",
       "      <td>2</td>\n",
       "      <td>2</td>\n",
       "      <td>2</td>\n",
       "      <td>2</td>\n",
       "      <td>2</td>\n",
       "      <td>1</td>\n",
       "      <td>3</td>\n",
       "      <td>4</td>\n",
       "      <td>2</td>\n",
       "    </tr>\n",
       "    <tr>\n",
       "      <th>4</th>\n",
       "      <td>2</td>\n",
       "      <td>18</td>\n",
       "      <td>165</td>\n",
       "      <td>2</td>\n",
       "      <td>1</td>\n",
       "      <td>2</td>\n",
       "      <td>1</td>\n",
       "      <td>3</td>\n",
       "      <td>2</td>\n",
       "      <td>1</td>\n",
       "      <td>2</td>\n",
       "      <td>3</td>\n",
       "      <td>3</td>\n",
       "      <td>2</td>\n",
       "      <td>2</td>\n",
       "    </tr>\n",
       "  </tbody>\n",
       "</table>\n",
       "</div>"
      ],
      "text/plain": [
       "   Sex  Age  Height  Overweight_Obese_Family  Consumption_of_Fast_Food  \\\n",
       "0    2   18     155                        2                         2   \n",
       "1    2   18     158                        2                         2   \n",
       "2    2   18     159                        2                         2   \n",
       "3    2   18     162                        2                         2   \n",
       "4    2   18     165                        2                         1   \n",
       "\n",
       "   Frequency_of_Consuming_Vegetables  Number_of_Main_Meals_Daily  \\\n",
       "0                                  3                           1   \n",
       "1                                  3                           1   \n",
       "2                                  2                           1   \n",
       "3                                  2                           2   \n",
       "4                                  2                           1   \n",
       "\n",
       "   Food_Intake_Between_Meals  Smoking  Liquid_Intake_Daily  \\\n",
       "0                          3        2                    1   \n",
       "1                          1        2                    1   \n",
       "2                          3        2                    3   \n",
       "3                          2        2                    2   \n",
       "4                          3        2                    1   \n",
       "\n",
       "   Calculation_of_Calorie_Intake  Physical_Excercise  \\\n",
       "0                              2                   3   \n",
       "1                              2                   1   \n",
       "2                              2                   2   \n",
       "3                              2                   1   \n",
       "4                              2                   3   \n",
       "\n",
       "   Schedule_Dedicated_to_Technology  Type_of_Transportation_Used  Class  \n",
       "0                                 3                            4      2  \n",
       "1                                 3                            3      2  \n",
       "2                                 3                            4      2  \n",
       "3                                 3                            4      2  \n",
       "4                                 3                            2      2  "
      ]
     },
     "execution_count": 18,
     "metadata": {},
     "output_type": "execute_result"
    }
   ],
   "source": [
    "df.head()"
   ]
  },
  {
   "cell_type": "code",
   "execution_count": 19,
   "id": "87d1ef45-cbdd-4745-864b-d3f243ba52e5",
   "metadata": {},
   "outputs": [
    {
     "data": {
      "text/plain": [
       "Index(['Sex', 'Age', 'Height', 'Overweight_Obese_Family',\n",
       "       'Consumption_of_Fast_Food', 'Frequency_of_Consuming_Vegetables',\n",
       "       'Number_of_Main_Meals_Daily', 'Food_Intake_Between_Meals', 'Smoking',\n",
       "       'Liquid_Intake_Daily', 'Calculation_of_Calorie_Intake',\n",
       "       'Physical_Excercise', 'Schedule_Dedicated_to_Technology',\n",
       "       'Type_of_Transportation_Used', 'Class'],\n",
       "      dtype='object')"
      ]
     },
     "execution_count": 19,
     "metadata": {},
     "output_type": "execute_result"
    }
   ],
   "source": [
    "df.columns"
   ]
  },
  {
   "cell_type": "code",
   "execution_count": 14,
   "id": "9ea5ab5b-8751-4d2d-95a2-725d97388eaa",
   "metadata": {},
   "outputs": [],
   "source": [
    "# continuous_columns = ['Age', 'Height', 'Frequency_of_Consuming_Vegetables', 'Number_of_Main_Meals_Daily', 'Food_Intake_Between_Meals', 'Number_of_Main_Meals_Daily', 'Liquid_Intake_Daily', \n",
    "#                       'Physical_Excercise', 'Schedule_Dedicated_to_Technology']\n",
    "# scaler = StandardScaler()\n",
    "# df[continuous_columns] = scaler.fit_transform(df[continuous_columns])\n",
    "# print(\"Dados normalizados:\")\n",
    "# df.head()"
   ]
  },
  {
   "cell_type": "code",
   "execution_count": 15,
   "id": "f86d7ef6-b467-4a86-9f3a-f2d469698511",
   "metadata": {},
   "outputs": [],
   "source": [
    "# categorical_columns = ['Sex', 'Overweight_Obese_Family', 'Consumption_of_Fast_Food', \n",
    "#                        'Calculation_of_Calorie_Intake', 'Smoking', 'Type_of_Transportation_Used']\n",
    "# df = pd.get_dummies(df, columns=categorical_columns, drop_first=True)"
   ]
  },
  {
   "cell_type": "code",
   "execution_count": 16,
   "id": "f42b9abe-708b-48d8-823a-8e53e2746cda",
   "metadata": {},
   "outputs": [],
   "source": [
    "# print(\"Dados após One-Hot Encoding:\")\n",
    "# df.head()"
   ]
  },
  {
   "cell_type": "code",
   "execution_count": 48,
   "id": "3e109584-f0ca-4bc3-8c24-baa37a4719a3",
   "metadata": {},
   "outputs": [],
   "source": [
    "df_processed = df.drop(\"Class\", axis=1) # Tentativa 1\n",
    "#df_processed = df.drop([\"Class\", \"Height\", \"Food_Intake_Between_Meals\", \"Smoking\", \"Liquid_Intake_Daily\", \"Schedule_Dedicated_to_Technology\"], axis=1) # Tentativa 2\n",
    "#df_processed = df.drop([\"Class\", \"Height\", \"Food_Intake_Between_Meals\", \"Smoking\", \"Liquid_Intake_Daily\", \"Schedule_Dedicated_to_Technology\", \"Sex\", \"Overweight_Obese_Family\"], axis=1) # Tentativa 3\n",
    "# df_processed = df.drop([\"Class\", \"Height\", \"Food_Intake_Between_Meals\", \"Smoking\", \"Liquid_Intake_Daily\", \"Schedule_Dedicated_to_Technology\", \"Sex\", \"Overweight_Obese_Family\", \n",
    "#                       \"Calculation_of_Calorie_Intake\", \"Type_of_Transportation_Used\"], axis=1) # Tentativa 4\n",
    "# df_processed = df.drop([\"Class\", \"Height\", \"Food_Intake_Between_Meals\", \"Smoking\", \"Liquid_Intake_Daily\", \"Schedule_Dedicated_to_Technology\", \"Sex\", \"Overweight_Obese_Family\", \n",
    "#                        \"Calculation_of_Calorie_Intake\", \"Type_of_Transportation_Used\", \"Consumption_of_Fast_Food\", \"Physical_Excercise\"], axis=1) # Tentativa 5"
   ]
  },
  {
   "cell_type": "code",
   "execution_count": 49,
   "id": "e03b3e4d-6f2f-4a61-ac57-98bf47630f9d",
   "metadata": {},
   "outputs": [
    {
     "data": {
      "text/plain": [
       "Index(['Sex', 'Age', 'Height', 'Overweight_Obese_Family',\n",
       "       'Consumption_of_Fast_Food', 'Frequency_of_Consuming_Vegetables',\n",
       "       'Number_of_Main_Meals_Daily', 'Food_Intake_Between_Meals', 'Smoking',\n",
       "       'Liquid_Intake_Daily', 'Calculation_of_Calorie_Intake',\n",
       "       'Physical_Excercise', 'Schedule_Dedicated_to_Technology',\n",
       "       'Type_of_Transportation_Used'],\n",
       "      dtype='object')"
      ]
     },
     "execution_count": 49,
     "metadata": {},
     "output_type": "execute_result"
    }
   ],
   "source": [
    "df_processed.columns"
   ]
  },
  {
   "cell_type": "code",
   "execution_count": 50,
   "id": "e75a95fe-7f36-4af3-916f-fccadba8e1c7",
   "metadata": {},
   "outputs": [
    {
     "data": {
      "image/png": "[encoded data removed]",
      "text/plain": [
       "<Figure size 640x480 with 1 Axes>"
      ]
     },
     "metadata": {},
     "output_type": "display_data"
    }
   ],
   "source": [
    "# Determinar o número ideal de clusters (opcional)\n",
    "inertia = []\n",
    "for k in range(1, 10):\n",
    "    kmeans = KMeans(n_clusters=k, random_state=42)\n",
    "    kmeans.fit(df_processed)\n",
    "    inertia.append(kmeans.inertia_)\n",
    "\n",
    "# Plotando o \"cotovelo\"\n",
    "plt.plot(range(1, 10), inertia, marker='o')\n",
    "plt.title(\"Método do Cotovelo\")\n",
    "plt.xlabel(\"Número de Clusters\")\n",
    "plt.ylabel(\"Inércia\")\n",
    "plt.show()\n",
    "\n",
    "# Aplicar o modelo com o número ideal de clusters\n",
    "kmeans = KMeans(n_clusters=4, random_state=42)\n",
    "clusters = kmeans.fit_predict(df_processed)\n",
    "\n",
    "# Adicionar os clusters ao dataset original\n",
    "df_processed['Cluster'] = clusters"
   ]
  },
  {
   "cell_type": "code",
   "execution_count": 51,
   "id": "6d600b6c-468c-4a04-8840-3e905b00188f",
   "metadata": {},
   "outputs": [
    {
     "name": "stdout",
     "output_type": "stream",
     "text": [
      "Ajusted Rand Index: 0.13899450936163982\n"
     ]
    }
   ],
   "source": [
    "# Labels verdadeiros e gerados pelo modelo\n",
    "true_labels = df['Class']  # Supondo que 'Class' contém os clusters corretos\n",
    "predicted_labels = clusters  # Clusters gerados pelo modelo\n",
    "\n",
    "# Calculando o ARI\n",
    "ari_score = adjusted_rand_score(true_labels, predicted_labels)\n",
    "print(f\"Ajusted Rand Index: {ari_score}\")"
   ]
  },
  {
   "cell_type": "code",
   "execution_count": 52,
   "id": "0c609edf-5e43-4514-a4de-413a163e53a1",
   "metadata": {},
   "outputs": [
    {
     "name": "stdout",
     "output_type": "stream",
     "text": [
      "Normalized Mutual Information: 0.15269082450788884\n"
     ]
    }
   ],
   "source": [
    "nmi_score = normalized_mutual_info_score(true_labels, predicted_labels)\n",
    "print(f\"Normalized Mutual Information: {nmi_score}\")"
   ]
  },
  {
   "cell_type": "code",
   "execution_count": null,
   "id": "0b8436ca-6e04-461b-bb32-c79c4c1edadf",
   "metadata": {},
   "outputs": [],
   "source": []
  },
  {
   "cell_type": "code",
   "execution_count": null,
   "id": "e5dec575-1b6b-486a-93d4-a05f41e4f202",
   "metadata": {},
   "outputs": [],
   "source": []
  }
 ],
 "metadata": {
  "kernelspec": {
   "display_name": "Python 3 (ipykernel)",
   "language": "python",
   "name": "python3"
  },
  "language_info": {
   "codemirror_mode": {
    "name": "ipython",
    "version": 3
   },
   "file_extension": ".py",
   "mimetype": "text/x-python",
   "name": "python",
   "nbconvert_exporter": "python",
   "pygments_lexer": "ipython3",
   "version": "3.12.6"
  }
 },
 "nbformat": 4,
 "nbformat_minor": 5
}
